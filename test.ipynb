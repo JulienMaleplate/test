{
  "nbformat": 4,
  "nbformat_minor": 0,
  "metadata": {
    "colab": {
      "provenance": [],
      "toc_visible": true,
      "authorship_tag": "ABX9TyOrOFKWfpK+sjTIS2s9VyFv",
      "include_colab_link": true
    },
    "kernelspec": {
      "name": "python3",
      "display_name": "Python 3"
    },
    "language_info": {
      "name": "python"
    }
  },
  "cells": [
    {
      "cell_type": "markdown",
      "metadata": {
        "id": "view-in-github",
        "colab_type": "text"
      },
      "source": [
        "<a href=\"https://colab.research.google.com/github/JulienMaleplate/JulienMaleplate/blob/main/test.ipynb\" target=\"_parent\"><img src=\"https://colab.research.google.com/assets/colab-badge.svg\" alt=\"Open In Colab\"/></a>"
      ]
    },
    {
      "cell_type": "code",
      "source": [
        "#test"
      ],
      "metadata": {
        "id": "tm607G2THp4S"
      },
      "execution_count": 18,
      "outputs": []
    },
    {
      "cell_type": "code",
      "execution_count": 21,
      "metadata": {
        "colab": {
          "base_uri": "https://localhost:8080/"
        },
        "id": "96dkSgavHoUS",
        "outputId": "5b922cfb-9191-4076-d819-738526127459"
      },
      "outputs": [
        {
          "output_type": "stream",
          "name": "stdout",
          "text": [
            "Rentrer un nombre entre 0 et 9999:5444\n",
            "Ce nombre s'écrit: V*CDXLIV\n"
          ]
        }
      ],
      "source": [
        "k=0\n",
        "x=-1\n",
        "\n",
        "x=int(input(\"Rentrer un nombre entre 0 et 9999:\"))\n",
        "\n",
        "\n",
        "\n",
        "A=[\"I\",\"II\",\"III\",\"IV\",\"V\",\"VI\",\"VII\",\"VIII\",\"IX\",\"\"]\n",
        "B=[\"X\",\"XX\",\"XXX\",\"XL\",\"L\",\"LX\",\"LXX\",\"LXXX\",\"XC\",\"\"]\n",
        "C=[\"C\",\"CC\",\"CCC\",\"CD\",\"D\",\"DC\",\"DCC\",\"DCCC\",\"CM\",\"\"]\n",
        "D=[\"M\",\"MM\",\"MMM\",\"MMMM\",\"V*\",\"VI*\",\"VII*\",\"VIII*\",\"IX*\",\"\"]\n",
        "L=[]\n",
        "\n",
        "while (x>=1000):\n",
        "    k+=1\n",
        "    x=x-1000\n",
        "L.append(D[k-1])\n",
        "k=0\n",
        "while (x>=100):\n",
        "    k+=1\n",
        "    x=x-100\n",
        "L.append(C[k-1])\n",
        "k=0\n",
        "while (x>=10):\n",
        "    k+=1\n",
        "    x=x-10\n",
        "L.append(B[k-1])\n",
        "k=0\n",
        "while (x>=1):\n",
        "    k+=1\n",
        "    x=x-1\n",
        "L.append(A[k-1])\n",
        "y=(str(L[0])+str(L[1])+str(L[2])+str(L[3]))\n",
        "print(f\"Ce nombre s'écrit: {y}\")"
      ]
    },
    {
      "cell_type": "code",
      "source": [
        "nouvelle_campagne = {\n",
        "\n",
        "\"responsable_de_campagne\": \"Jeanne d'Arc\",\n",
        "\n",
        "\"nom_de_campagne\": \"Campagne nous aimons les chiens\",\n",
        "\n",
        "\"date_de_début\": \"01/01/2020\",\n",
        "\n",
        "\"influenceurs_importants\": [\"@MonAmourDeChien\", \"@MeilleuresFriandisesPourChiens\"]\n",
        "\n",
        "}"
      ],
      "metadata": {
        "id": "rLxMSgmedQFp"
      },
      "execution_count": 9,
      "outputs": []
    },
    {
      "cell_type": "code",
      "source": [
        "taux_de_conversion = {}\n",
        "\n",
        "taux_de_conversion['facebook'] = 3.4\n",
        "\n",
        "taux_de_conversion['instagram'] = 1.2\n",
        "\n",
        "taux_de_conversion = dict()\n",
        "\n",
        "taux_de_conversion['facebook'] = 3.4\n",
        "\n",
        "taux_de_conversion['instagram'] = 1.2"
      ],
      "metadata": {
        "id": "wpeDTT6MdiUY"
      },
      "execution_count": 10,
      "outputs": []
    },
    {
      "cell_type": "code",
      "source": [
        "nouvelle_campagne['responsable_de_campagne']"
      ],
      "metadata": {
        "colab": {
          "base_uri": "https://localhost:8080/",
          "height": 36
        },
        "id": "f2Zl_ljtdvgx",
        "outputId": "63f4f4e8-79eb-4ecc-8b75-7a9c681aeebd"
      },
      "execution_count": 11,
      "outputs": [
        {
          "output_type": "execute_result",
          "data": {
            "text/plain": [
              "\"Jeanne d'Arc\""
            ],
            "application/vnd.google.colaboratory.intrinsic+json": {
              "type": "string"
            }
          },
          "metadata": {},
          "execution_count": 11
        }
      ]
    },
    {
      "cell_type": "code",
      "source": [
        "taux_de_conversion['facebook']"
      ],
      "metadata": {
        "colab": {
          "base_uri": "https://localhost:8080/"
        },
        "id": "lyYE_AqMeENa",
        "outputId": "5e1ffb3c-1173-41da-9daa-cb5187d7dedb"
      },
      "execution_count": 12,
      "outputs": [
        {
          "output_type": "execute_result",
          "data": {
            "text/plain": [
              "3.4"
            ]
          },
          "metadata": {},
          "execution_count": 12
        }
      ]
    }
  ]
}