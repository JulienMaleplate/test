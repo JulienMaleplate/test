{
  "nbformat": 4,
  "nbformat_minor": 0,
  "metadata": {
    "colab": {
      "provenance": [],
      "authorship_tag": "ABX9TyNbIFVg3VuepVkOprrEVq47",
      "include_colab_link": true
    },
    "kernelspec": {
      "name": "python3",
      "display_name": "Python 3"
    },
    "language_info": {
      "name": "python"
    }
  },
  "cells": [
    {
      "cell_type": "markdown",
      "metadata": {
        "id": "view-in-github",
        "colab_type": "text"
      },
      "source": [
        "<a href=\"https://colab.research.google.com/github/JulienMaleplate/test/blob/main/test.ipynb\" target=\"_parent\"><img src=\"https://colab.research.google.com/assets/colab-badge.svg\" alt=\"Open In Colab\"/></a>"
      ]
    },
    {
      "cell_type": "code",
      "source": [
        "#test"
      ],
      "metadata": {
        "id": "tm607G2THp4S"
      },
      "execution_count": null,
      "outputs": []
    },
    {
      "cell_type": "code",
      "execution_count": null,
      "metadata": {
        "colab": {
          "base_uri": "https://localhost:8080/"
        },
        "id": "96dkSgavHoUS",
        "outputId": "5b922cfb-9191-4076-d819-738526127459"
      },
      "outputs": [
        {
          "output_type": "stream",
          "name": "stdout",
          "text": [
            "Rentrer un nombre entre 0 et 9999:5444\n",
            "Ce nombre s'écrit: V*CDXLIV\n"
          ]
        }
      ],
      "source": [
        "k=0\n",
        "x=-1\n",
        "\n",
        "x=int(input(\"Rentrer un nombre entre 0 et 9999:\"))\n",
        "\n",
        "\n",
        "\n",
        "A=[\"I\",\"II\",\"III\",\"IV\",\"V\",\"VI\",\"VII\",\"VIII\",\"IX\",\"\"]\n",
        "B=[\"X\",\"XX\",\"XXX\",\"XL\",\"L\",\"LX\",\"LXX\",\"LXXX\",\"XC\",\"\"]\n",
        "C=[\"C\",\"CC\",\"CCC\",\"CD\",\"D\",\"DC\",\"DCC\",\"DCCC\",\"CM\",\"\"]\n",
        "D=[\"M\",\"MM\",\"MMM\",\"MMMM\",\"V*\",\"VI*\",\"VII*\",\"VIII*\",\"IX*\",\"\"]\n",
        "L=[]\n",
        "\n",
        "while (x>=1000):\n",
        "    k+=1\n",
        "    x=x-1000\n",
        "L.append(D[k-1])\n",
        "k=0\n",
        "while (x>=100):\n",
        "    k+=1\n",
        "    x=x-100\n",
        "L.append(C[k-1])\n",
        "k=0\n",
        "while (x>=10):\n",
        "    k+=1\n",
        "    x=x-10\n",
        "L.append(B[k-1])\n",
        "k=0\n",
        "while (x>=1):\n",
        "    k+=1\n",
        "    x=x-1\n",
        "L.append(A[k-1])\n",
        "y=(str(L[0])+str(L[1])+str(L[2])+str(L[3]))\n",
        "print(f\"Ce nombre s'écrit: {y}\")"
      ]
    },
    {
      "cell_type": "code",
      "source": [
        "nouvelle_campagne = {\n",
        "\n",
        "\"responsable_de_campagne\": \"Jeanne d'Arc\",\n",
        "\n",
        "\"nom_de_campagne\": \"Campagne nous aimons les chiens\",\n",
        "\n",
        "\"date_de_début\": \"01/01/2020\",\n",
        "\n",
        "\"influenceurs_importants\": [\"@MonAmourDeChien\", \"@MeilleuresFriandisesPourChiens\"]\n",
        "\n",
        "}"
      ],
      "metadata": {
        "id": "rLxMSgmedQFp"
      },
      "execution_count": null,
      "outputs": []
    },
    {
      "cell_type": "code",
      "source": [
        "taux_de_conversion = {}\n",
        "\n",
        "taux_de_conversion['facebook'] = 3.4\n",
        "\n",
        "taux_de_conversion['instagram'] = 1.2\n",
        "\n",
        "taux_de_conversion = dict()\n",
        "\n",
        "taux_de_conversion['facebook'] = 3.4\n",
        "\n",
        "taux_de_conversion['instagram'] = 1.2"
      ],
      "metadata": {
        "id": "wpeDTT6MdiUY"
      },
      "execution_count": null,
      "outputs": []
    },
    {
      "cell_type": "code",
      "source": [
        "nouvelle_campagne['responsable_de_campagne']"
      ],
      "metadata": {
        "colab": {
          "base_uri": "https://localhost:8080/",
          "height": 36
        },
        "id": "f2Zl_ljtdvgx",
        "outputId": "63f4f4e8-79eb-4ecc-8b75-7a9c681aeebd"
      },
      "execution_count": null,
      "outputs": [
        {
          "output_type": "execute_result",
          "data": {
            "text/plain": [
              "\"Jeanne d'Arc\""
            ],
            "application/vnd.google.colaboratory.intrinsic+json": {
              "type": "string"
            }
          },
          "metadata": {},
          "execution_count": 11
        }
      ]
    },
    {
      "cell_type": "code",
      "source": [
        "taux_de_conversion['facebook']"
      ],
      "metadata": {
        "colab": {
          "base_uri": "https://localhost:8080/"
        },
        "id": "lyYE_AqMeENa",
        "outputId": "5e1ffb3c-1173-41da-9daa-cb5187d7dedb"
      },
      "execution_count": null,
      "outputs": [
        {
          "output_type": "execute_result",
          "data": {
            "text/plain": [
              "3.4"
            ]
          },
          "metadata": {},
          "execution_count": 12
        }
      ]
    },
    {
      "cell_type": "code",
      "source": [
        "# Création des variables\n",
        "nombre_a_gauche = 11\n",
        "nombre_a_droite = 5\n",
        "operation = \"/\"\n",
        "resultat = 0\n",
        "# Vérifie si les deux nombres sont valides avec la fonction isinstance (soit un integer, soit un float)\n",
        "if not isinstance(nombre_a_gauche, (int, float)) or not isinstance(nombre_a_droite, (int, float)):\n",
        "\n",
        "    print(\"Erreur: les deux nombres doivent être des nombres entiers ou flottants.\")\n",
        "else:\n",
        "\n",
        "    # Vérifie si le symbole est valide\n",
        "    if operation not in [\"+\", \"-\", \"*\", \"/\"]:\n",
        "\n",
        "        print(\"Erreur: le symbole d'opération doit être '+', '-', '*' ou '/'.\")\n",
        "    else:\n",
        "\n",
        "        # Effectue l'opération en fonction du symbole\n",
        "        if operation == \"+\":\n",
        "            resultat = nombre_a_gauche + nombre_a_droite\n",
        "\n",
        "        elif operation == \"-\":\n",
        "            resultat = nombre_a_gauche - nombre_a_droite\n",
        "\n",
        "        elif operation == \"*\":\n",
        "            resultat = nombre_a_gauche * nombre_a_droite\n",
        "\n",
        "        elif operation == \"/\":\n",
        "            # Vérifie si la variable `nombre_a_droite` n'est pas nulle pour la division\n",
        "            if nombre_a_droite == 0:\n",
        "                print(\"Erreur: impossible de diviser par zéro.\")\n",
        "            else:\n",
        "                resultat = nombre_a_gauche / nombre_a_droite\n",
        "\n",
        "        # Affiche le résultat\n",
        "        print(f\"Le résultat de l'opération est: {resultat}\")"
      ],
      "metadata": {
        "id": "9VHRIbb9PONH",
        "outputId": "7500011e-d269-41db-a23c-f5444f2b9a07",
        "colab": {
          "base_uri": "https://localhost:8080/"
        }
      },
      "execution_count": null,
      "outputs": [
        {
          "output_type": "stream",
          "name": "stdout",
          "text": [
            "Le résultat de l'opération est: 2.2\n"
          ]
        }
      ]
    },
    {
      "cell_type": "code",
      "source": [
        "print(\"Ce programme va tester si deux mots sont des anagrammes\")\n",
        "\n",
        "a=str(input(\"Entrer un premier mot: \"))\n",
        "b=str(input(\"Entrer un deuxième mot: \"))\n",
        "a=a.lower()\n",
        "b=b.lower()\n",
        "\n",
        "if len(a)==len(b):\n",
        "    A=sorted(a)\n",
        "    B=sorted(b)\n",
        "    if A==B:\n",
        "        print(f\"Les mots '{a}' et '{b}' sont des anagrammes!\")\n",
        "    else:\n",
        "        print(f\"Les mots '{a}' et '{b}' ne sont pas des anagrammes...\")\n",
        "else:\n",
        "    print(f\"Les mots '{a}' et '{b}' ne sont pas des anagrammes...\")"
      ],
      "metadata": {
        "colab": {
          "base_uri": "https://localhost:8080/"
        },
        "id": "d6bhc_3kUmpM",
        "outputId": "a376317d-6090-476f-dc83-bd1311eef7eb"
      },
      "execution_count": null,
      "outputs": [
        {
          "output_type": "stream",
          "name": "stdout",
          "text": [
            "Ce programme va tester si deux mots sont des anagrammes\n",
            "Entrer un premier mot: Nichee\n",
            "Entrer un deuxième mot: Chienne\n",
            "Les mots 'nichee' et 'chienne' ne sont pas des anagrammes...\n"
          ]
        }
      ]
    },
    {
      "cell_type": "code",
      "source": [
        "print(\"Ce programme va tester si un mot est un palindrome.\")\n",
        "\n",
        "a=str(input(\"Entrer un mot: \"))\n",
        "a=a.lower()\n",
        "\n",
        "k=0\n",
        "for i in range (len(a)):\n",
        "    if a[i]==a[-i-1]:\n",
        "        k+=1\n",
        "    else:\n",
        "        k=k\n",
        "\n",
        "if k==len(a):\n",
        "    print(f\"Le mot {a} est un palindrome.\")\n",
        "else:\n",
        "    print(f\"Le mot {a} n'est pas un palindrome.\")"
      ],
      "metadata": {
        "colab": {
          "base_uri": "https://localhost:8080/"
        },
        "id": "m3t8-b_WVRse",
        "outputId": "018bac9c-a185-4230-dbf8-ee51e0aebcb1"
      },
      "execution_count": null,
      "outputs": [
        {
          "output_type": "stream",
          "name": "stdout",
          "text": [
            "Ce programme va tester si un mot est un palindrome.\n",
            "Entrer un mot: Jkijkj\n",
            "Le mot jkijkj n'est pas un palindrome.\n"
          ]
        }
      ]
    }
  ]
}